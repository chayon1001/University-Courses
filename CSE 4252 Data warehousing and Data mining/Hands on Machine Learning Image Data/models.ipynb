{
 "cells": [
  {
   "cell_type": "code",
   "execution_count": 1,
   "metadata": {},
   "outputs": [],
   "source": [
    "import warnings\n",
    "warnings.filterwarnings(\"ignore\")"
   ]
  },
  {
   "cell_type": "code",
   "execution_count": 2,
   "metadata": {},
   "outputs": [],
   "source": [
    "import os\n",
    "import cv2\n",
    "import numpy as np\n",
    "from sklearn.model_selection import train_test_split"
   ]
  },
  {
   "cell_type": "code",
   "execution_count": 3,
   "metadata": {},
   "outputs": [],
   "source": [
    "def load_images_from_folder(folder):\n",
    "    images = []\n",
    "    labels = []\n",
    "    for label, subfolder in enumerate(os.listdir(folder)):\n",
    "        subfolder_path = os.path.join(folder, subfolder)\n",
    "        for filename in os.listdir(subfolder_path):\n",
    "            img_path = os.path.join(subfolder_path, filename)\n",
    "            img = cv2.imread(img_path)\n",
    "            if img is not None:\n",
    "                images.append(img)\n",
    "                labels.append(label)  # Assign label 0 for \"ai\" and label 1 for \"real\"\n",
    "    return images, labels"
   ]
  },
  {
   "cell_type": "code",
   "execution_count": 12,
   "metadata": {},
   "outputs": [],
   "source": [
    "folder_path = \"shoe_data\"\n",
    "images, labels = load_images_from_folder(folder_path)"
   ]
  },
  {
   "cell_type": "code",
   "execution_count": 13,
   "metadata": {},
   "outputs": [],
   "source": [
    "# Define target size\n",
    "target_size = (150, 150)\n",
    "\n",
    "# Resize images\n",
    "resized_images = [cv2.resize(image, target_size) for image in images]"
   ]
  },
  {
   "cell_type": "code",
   "execution_count": 14,
   "metadata": {},
   "outputs": [],
   "source": [
    "# Convert images and labels to numpy arrays\n",
    "X = np.array(resized_images)\n",
    "y = np.array(labels)"
   ]
  },
  {
   "cell_type": "code",
   "execution_count": 15,
   "metadata": {},
   "outputs": [],
   "source": [
    "X_train, X_test, y_train, y_test = train_test_split(X, y, test_size=0.2, random_state=42)"
   ]
  },
  {
   "cell_type": "code",
   "execution_count": 16,
   "metadata": {},
   "outputs": [],
   "source": [
    "from sklearn.svm import SVC\n",
    "from sklearn.ensemble import RandomForestClassifier\n",
    "from sklearn.neighbors import KNeighborsClassifier\n",
    "from sklearn.linear_model import LogisticRegression\n",
    "from sklearn.naive_bayes import GaussianNB"
   ]
  },
  {
   "cell_type": "code",
   "execution_count": 17,
   "metadata": {},
   "outputs": [
    {
     "data": {
      "text/html": [
       "<style>#sk-container-id-1 {color: black;}#sk-container-id-1 pre{padding: 0;}#sk-container-id-1 div.sk-toggleable {background-color: white;}#sk-container-id-1 label.sk-toggleable__label {cursor: pointer;display: block;width: 100%;margin-bottom: 0;padding: 0.3em;box-sizing: border-box;text-align: center;}#sk-container-id-1 label.sk-toggleable__label-arrow:before {content: \"▸\";float: left;margin-right: 0.25em;color: #696969;}#sk-container-id-1 label.sk-toggleable__label-arrow:hover:before {color: black;}#sk-container-id-1 div.sk-estimator:hover label.sk-toggleable__label-arrow:before {color: black;}#sk-container-id-1 div.sk-toggleable__content {max-height: 0;max-width: 0;overflow: hidden;text-align: left;background-color: #f0f8ff;}#sk-container-id-1 div.sk-toggleable__content pre {margin: 0.2em;color: black;border-radius: 0.25em;background-color: #f0f8ff;}#sk-container-id-1 input.sk-toggleable__control:checked~div.sk-toggleable__content {max-height: 200px;max-width: 100%;overflow: auto;}#sk-container-id-1 input.sk-toggleable__control:checked~label.sk-toggleable__label-arrow:before {content: \"▾\";}#sk-container-id-1 div.sk-estimator input.sk-toggleable__control:checked~label.sk-toggleable__label {background-color: #d4ebff;}#sk-container-id-1 div.sk-label input.sk-toggleable__control:checked~label.sk-toggleable__label {background-color: #d4ebff;}#sk-container-id-1 input.sk-hidden--visually {border: 0;clip: rect(1px 1px 1px 1px);clip: rect(1px, 1px, 1px, 1px);height: 1px;margin: -1px;overflow: hidden;padding: 0;position: absolute;width: 1px;}#sk-container-id-1 div.sk-estimator {font-family: monospace;background-color: #f0f8ff;border: 1px dotted black;border-radius: 0.25em;box-sizing: border-box;margin-bottom: 0.5em;}#sk-container-id-1 div.sk-estimator:hover {background-color: #d4ebff;}#sk-container-id-1 div.sk-parallel-item::after {content: \"\";width: 100%;border-bottom: 1px solid gray;flex-grow: 1;}#sk-container-id-1 div.sk-label:hover label.sk-toggleable__label {background-color: #d4ebff;}#sk-container-id-1 div.sk-serial::before {content: \"\";position: absolute;border-left: 1px solid gray;box-sizing: border-box;top: 0;bottom: 0;left: 50%;z-index: 0;}#sk-container-id-1 div.sk-serial {display: flex;flex-direction: column;align-items: center;background-color: white;padding-right: 0.2em;padding-left: 0.2em;position: relative;}#sk-container-id-1 div.sk-item {position: relative;z-index: 1;}#sk-container-id-1 div.sk-parallel {display: flex;align-items: stretch;justify-content: center;background-color: white;position: relative;}#sk-container-id-1 div.sk-item::before, #sk-container-id-1 div.sk-parallel-item::before {content: \"\";position: absolute;border-left: 1px solid gray;box-sizing: border-box;top: 0;bottom: 0;left: 50%;z-index: -1;}#sk-container-id-1 div.sk-parallel-item {display: flex;flex-direction: column;z-index: 1;position: relative;background-color: white;}#sk-container-id-1 div.sk-parallel-item:first-child::after {align-self: flex-end;width: 50%;}#sk-container-id-1 div.sk-parallel-item:last-child::after {align-self: flex-start;width: 50%;}#sk-container-id-1 div.sk-parallel-item:only-child::after {width: 0;}#sk-container-id-1 div.sk-dashed-wrapped {border: 1px dashed gray;margin: 0 0.4em 0.5em 0.4em;box-sizing: border-box;padding-bottom: 0.4em;background-color: white;}#sk-container-id-1 div.sk-label label {font-family: monospace;font-weight: bold;display: inline-block;line-height: 1.2em;}#sk-container-id-1 div.sk-label-container {text-align: center;}#sk-container-id-1 div.sk-container {/* jupyter's `normalize.less` sets `[hidden] { display: none; }` but bootstrap.min.css set `[hidden] { display: none !important; }` so we also need the `!important` here to be able to override the default hidden behavior on the sphinx rendered scikit-learn.org. See: https://github.com/scikit-learn/scikit-learn/issues/21755 */display: inline-block !important;position: relative;}#sk-container-id-1 div.sk-text-repr-fallback {display: none;}</style><div id=\"sk-container-id-1\" class=\"sk-top-container\"><div class=\"sk-text-repr-fallback\"><pre>GaussianNB()</pre><b>In a Jupyter environment, please rerun this cell to show the HTML representation or trust the notebook. <br />On GitHub, the HTML representation is unable to render, please try loading this page with nbviewer.org.</b></div><div class=\"sk-container\" hidden><div class=\"sk-item\"><div class=\"sk-estimator sk-toggleable\"><input class=\"sk-toggleable__control sk-hidden--visually\" id=\"sk-estimator-id-1\" type=\"checkbox\" checked><label for=\"sk-estimator-id-1\" class=\"sk-toggleable__label sk-toggleable__label-arrow\">GaussianNB</label><div class=\"sk-toggleable__content\"><pre>GaussianNB()</pre></div></div></div></div></div>"
      ],
      "text/plain": [
       "GaussianNB()"
      ]
     },
     "execution_count": 17,
     "metadata": {},
     "output_type": "execute_result"
    }
   ],
   "source": [
    "# Initialize and train the models\n",
    "svm_model = SVC(kernel='linear')\n",
    "svm_model.fit(X_train.reshape(len(X_train), -1), y_train)\n",
    "\n",
    "rf_model = RandomForestClassifier(n_estimators=100)\n",
    "rf_model.fit(X_train.reshape(len(X_train), -1), y_train)\n",
    "\n",
    "knn_model = KNeighborsClassifier(n_neighbors=5)\n",
    "knn_model.fit(X_train.reshape(len(X_train), -1), y_train)\n",
    "\n",
    "lr_model = LogisticRegression(max_iter=1000)\n",
    "lr_model.fit(X_train.reshape(len(X_train), -1), y_train)\n",
    "\n",
    "nb_model = GaussianNB()\n",
    "nb_model.fit(X_train.reshape(len(X_train), -1), y_train)"
   ]
  },
  {
   "cell_type": "code",
   "execution_count": 18,
   "metadata": {},
   "outputs": [
    {
     "name": "stdout",
     "output_type": "stream",
     "text": [
      "SVM Accuracy: 0.8924485125858124\n",
      "SVM Classification Report:\n",
      "              precision    recall  f1-score   support\n",
      "\n",
      "           0       0.92      0.92      0.92       282\n",
      "           1       0.85      0.85      0.85       155\n",
      "\n",
      "    accuracy                           0.89       437\n",
      "   macro avg       0.88      0.88      0.88       437\n",
      "weighted avg       0.89      0.89      0.89       437\n",
      "\n",
      "SVM Confusion Matrix:\n",
      "[[259  23]\n",
      " [ 24 131]]\n",
      "\n",
      "\n",
      "Random Forest Accuracy: 0.8947368421052632\n",
      "Random Forest Classification Report:\n",
      "              precision    recall  f1-score   support\n",
      "\n",
      "           0       0.91      0.93      0.92       282\n",
      "           1       0.86      0.84      0.85       155\n",
      "\n",
      "    accuracy                           0.89       437\n",
      "   macro avg       0.89      0.88      0.88       437\n",
      "weighted avg       0.89      0.89      0.89       437\n",
      "\n",
      "Random Forest Confusion Matrix:\n",
      "[[261  21]\n",
      " [ 25 130]]\n",
      "\n",
      "\n",
      "KNN Accuracy: 0.8741418764302059\n",
      "KNN Classification Report:\n",
      "              precision    recall  f1-score   support\n",
      "\n",
      "           0       0.96      0.84      0.90       282\n",
      "           1       0.77      0.93      0.84       155\n",
      "\n",
      "    accuracy                           0.87       437\n",
      "   macro avg       0.86      0.89      0.87       437\n",
      "weighted avg       0.89      0.87      0.88       437\n",
      "\n",
      "KNN Confusion Matrix:\n",
      "[[238  44]\n",
      " [ 11 144]]\n",
      "\n",
      "\n",
      "Logistic Regression Accuracy: 0.8443935926773455\n",
      "Logistic Regression Classification Report:\n",
      "              precision    recall  f1-score   support\n",
      "\n",
      "           0       0.91      0.85      0.88       282\n",
      "           1       0.75      0.84      0.79       155\n",
      "\n",
      "    accuracy                           0.84       437\n",
      "   macro avg       0.83      0.84      0.83       437\n",
      "weighted avg       0.85      0.84      0.85       437\n",
      "\n",
      "Logistic Regression Confusion Matrix:\n",
      "[[239  43]\n",
      " [ 25 130]]\n",
      "\n",
      "\n",
      "Naive Bayes Accuracy: 0.8489702517162472\n",
      "Naive Bayes Classification Report:\n",
      "              precision    recall  f1-score   support\n",
      "\n",
      "           0       0.89      0.88      0.88       282\n",
      "           1       0.78      0.79      0.79       155\n",
      "\n",
      "    accuracy                           0.85       437\n",
      "   macro avg       0.83      0.84      0.84       437\n",
      "weighted avg       0.85      0.85      0.85       437\n",
      "\n",
      "Naive Bayes Confusion Matrix:\n",
      "[[248  34]\n",
      " [ 32 123]]\n"
     ]
    }
   ],
   "source": [
    "from sklearn.metrics import accuracy_score, classification_report, confusion_matrix\n",
    "\n",
    "# Define a function for model evaluation\n",
    "def evaluate_model(model, X_test, y_test):\n",
    "    # Predict on test set\n",
    "    y_pred = model.predict(X_test.reshape(len(X_test), -1))\n",
    "    \n",
    "    # Calculate accuracy\n",
    "    accuracy = accuracy_score(y_test, y_pred)\n",
    "    \n",
    "    # Generate classification report\n",
    "    report = classification_report(y_test, y_pred)\n",
    "    \n",
    "    # Generate confusion matrix\n",
    "    confusion = confusion_matrix(y_test, y_pred)\n",
    "    \n",
    "    return accuracy, report, confusion\n",
    "\n",
    "# Evaluate SVM model\n",
    "svm_accuracy, svm_report, svm_confusion = evaluate_model(svm_model, X_test, y_test)\n",
    "\n",
    "# Evaluate Random Forest model\n",
    "rf_accuracy, rf_report, rf_confusion = evaluate_model(rf_model, X_test, y_test)\n",
    "\n",
    "# Evaluate KNN model\n",
    "knn_accuracy, knn_report, knn_confusion = evaluate_model(knn_model, X_test, y_test)\n",
    "\n",
    "# Evaluate Logistic Regression model\n",
    "lr_accuracy, lr_report, lr_confusion = evaluate_model(lr_model, X_test, y_test)\n",
    "\n",
    "# Evaluate Naive Bayes model\n",
    "nb_accuracy, nb_report, nb_confusion = evaluate_model(nb_model, X_test, y_test)\n",
    "\n",
    "print(\"SVM Accuracy:\", svm_accuracy)\n",
    "print(\"SVM Classification Report:\")\n",
    "print(svm_report)\n",
    "print(\"SVM Confusion Matrix:\")\n",
    "print(svm_confusion)\n",
    "print(\"\\n\")\n",
    "\n",
    "print(\"Random Forest Accuracy:\", rf_accuracy)\n",
    "print(\"Random Forest Classification Report:\")\n",
    "print(rf_report)\n",
    "print(\"Random Forest Confusion Matrix:\")\n",
    "print(rf_confusion)\n",
    "print(\"\\n\")\n",
    "\n",
    "print(\"KNN Accuracy:\", knn_accuracy)\n",
    "print(\"KNN Classification Report:\")\n",
    "print(knn_report)\n",
    "print(\"KNN Confusion Matrix:\")\n",
    "print(knn_confusion)\n",
    "print(\"\\n\")\n",
    "\n",
    "print(\"Logistic Regression Accuracy:\", lr_accuracy)\n",
    "print(\"Logistic Regression Classification Report:\")\n",
    "print(lr_report)\n",
    "print(\"Logistic Regression Confusion Matrix:\")\n",
    "print(lr_confusion)\n",
    "print(\"\\n\")\n",
    "\n",
    "print(\"Naive Bayes Accuracy:\", nb_accuracy)\n",
    "print(\"Naive Bayes Classification Report:\")\n",
    "print(nb_report)\n",
    "print(\"Naive Bayes Confusion Matrix:\")\n",
    "print(nb_confusion)"
   ]
  }
 ],
 "metadata": {
  "kernelspec": {
   "display_name": "Python 3",
   "language": "python",
   "name": "python3"
  },
  "language_info": {
   "codemirror_mode": {
    "name": "ipython",
    "version": 3
   },
   "file_extension": ".py",
   "mimetype": "text/x-python",
   "name": "python",
   "nbconvert_exporter": "python",
   "pygments_lexer": "ipython3",
   "version": "3.11.5"
  }
 },
 "nbformat": 4,
 "nbformat_minor": 2
}
