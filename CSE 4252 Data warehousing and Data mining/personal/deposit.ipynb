{
 "cells": [
  {
   "cell_type": "code",
   "execution_count": null,
   "metadata": {},
   "outputs": [],
   "source": [
    "import seaborn as sns\n",
    "import pandas as pd\n",
    "import matplotlib.pyplot as plt\n",
    "from sklearn.preprocessing import LabelEncoder"
   ]
  },
  {
   "cell_type": "code",
   "execution_count": null,
   "metadata": {},
   "outputs": [],
   "source": [
    "data = pd.read_csv(\"datasets/deposit.csv\")"
   ]
  },
  {
   "cell_type": "code",
   "execution_count": null,
   "metadata": {},
   "outputs": [],
   "source": [
    "print(data.shape)\n",
    "print(data.index)\n",
    "print(data.columns)\n",
    "print(len(data.columns))\n",
    "data.head()"
   ]
  },
  {
   "cell_type": "code",
   "execution_count": null,
   "metadata": {},
   "outputs": [],
   "source": [
    "data.drop(['contact','duration-sec'], axis=1, inplace=True)"
   ]
  },
  {
   "cell_type": "code",
   "execution_count": null,
   "metadata": {},
   "outputs": [],
   "source": [
    "data.head()"
   ]
  },
  {
   "cell_type": "code",
   "execution_count": null,
   "metadata": {},
   "outputs": [],
   "source": [
    "print(\"Missing values before handling:\")\n",
    "print(data.isnull().sum())"
   ]
  },
  {
   "cell_type": "code",
   "execution_count": null,
   "metadata": {},
   "outputs": [],
   "source": [
    "mean=data[\"age\"].mean()\n",
    "mod_job=data[\"job\"].mode()[0]\n",
    "mod_edu=data[\"education\"].mode()[0]\n",
    "print(mean)\n",
    "print(mod_job) \n",
    "print(mod_edu)"
   ]
  },
  {
   "cell_type": "code",
   "execution_count": null,
   "metadata": {},
   "outputs": [],
   "source": [
    "data[\"age\"].fillna(mean, inplace=True)\n",
    "data[\"job\"].fillna(mod_job, inplace=True)\n",
    "data[\"education\"].fillna(mod_edu, inplace=True)"
   ]
  },
  {
   "cell_type": "code",
   "execution_count": null,
   "metadata": {},
   "outputs": [],
   "source": [
    "print(\"Missing values after handling:\")\n",
    "print(data.isnull().sum())"
   ]
  },
  {
   "cell_type": "markdown",
   "metadata": {},
   "source": [
    ">## Label encoding"
   ]
  },
  {
   "cell_type": "code",
   "execution_count": null,
   "metadata": {},
   "outputs": [],
   "source": [
    "data.head()"
   ]
  },
  {
   "cell_type": "code",
   "execution_count": null,
   "metadata": {},
   "outputs": [],
   "source": [
    "print(\"job\")\n",
    "print(data[\"job\"].unique().tolist())\n",
    "print(data[\"job\"].value_counts().tolist())\n",
    "\n",
    "print(\"marital\")\n",
    "print(data[\"marital\"].unique().tolist())\n",
    "print(data[\"marital\"].value_counts().tolist())\n",
    "\n",
    "print(\"education\")\n",
    "print(data[\"education\"].unique().tolist())\n",
    "print(data[\"education\"].value_counts().tolist())\n",
    "\n",
    "print(\"default\")\n",
    "print(data[\"default\"].unique().tolist())\n",
    "print(data[\"default\"].value_counts().tolist())\n",
    "\n",
    "print(\"housing\")\n",
    "print(data[\"housing\"].unique().tolist())\n",
    "print(data[\"housing\"].value_counts().tolist())\n",
    "\n",
    "print(\"loan\")\n",
    "print(data[\"loan\"].unique().tolist())\n",
    "print(data[\"loan\"].value_counts().tolist())\n",
    "\n",
    "print(\"deposit\")\n",
    "print(data[\"deposit\"].unique().tolist())\n",
    "print(data[\"deposit\"].value_counts().tolist())"
   ]
  },
  {
   "cell_type": "code",
   "execution_count": null,
   "metadata": {},
   "outputs": [],
   "source": [
    "label_encoder = LabelEncoder()"
   ]
  },
  {
   "cell_type": "code",
   "execution_count": null,
   "metadata": {},
   "outputs": [],
   "source": [
    "data[\"deposit\"] = label_encoder.fit_transform(data[\"deposit\"])\n",
    "data[\"loan\"] = label_encoder.fit_transform(data[\"loan\"])\n",
    "data[\"housing\"] = label_encoder.fit_transform(data[\"housing\"])\n",
    "data[\"default\"] = label_encoder.fit_transform(data[\"default\"])"
   ]
  },
  {
   "cell_type": "code",
   "execution_count": null,
   "metadata": {},
   "outputs": [],
   "source": [
    "data.head()"
   ]
  },
  {
   "cell_type": "code",
   "execution_count": null,
   "metadata": {},
   "outputs": [],
   "source": [
    "data = pd.get_dummies(data, columns=['job'])\n",
    "data = pd.get_dummies(data, columns=['marital'])\n",
    "data = pd.get_dummies(data, columns=['education'])"
   ]
  },
  {
   "cell_type": "code",
   "execution_count": null,
   "metadata": {},
   "outputs": [],
   "source": [
    "data.head()"
   ]
  },
  {
   "cell_type": "code",
   "execution_count": null,
   "metadata": {},
   "outputs": [],
   "source": [
    "data[\"job_admin\"] = label_encoder.fit_transform(data[\"job_admin\"])\n",
    "data[\"job_blue-collar\"] = label_encoder.fit_transform(data[\"job_blue-collar\"])\n",
    "data[\"job_entrepreneur\"] = label_encoder.fit_transform(data[\"job_entrepreneur\"])\n",
    "data[\"job_housemaid\"] = label_encoder.fit_transform(data[\"job_housemaid\"])\n",
    "data[\"job_management\"] = label_encoder.fit_transform(data[\"job_management\"])\n",
    "data[\"job_retired\"] = label_encoder.fit_transform(data[\"job_retired\"])\n",
    "data[\"job_self-employed\"] = label_encoder.fit_transform(data[\"job_self-employed\"])\n",
    "data[\"job_services\"] = label_encoder.fit_transform(data[\"job_services\"])\n",
    "data[\"job_student\"] = label_encoder.fit_transform(data[\"job_student\"])\n",
    "data[\"job_technician\"] = label_encoder.fit_transform(data[\"job_technician\"])\n",
    "data[\"job_unemployed\"] = label_encoder.fit_transform(data[\"job_unemployed\"])\n",
    "data.drop(columns=\"job_unknown\", inplace=True)\n",
    "\n",
    "data[\"marital_married\"] = label_encoder.fit_transform(data[\"marital_married\"])\n",
    "data[\"marital_single\"] = label_encoder.fit_transform(data[\"marital_single\"])\n",
    "data.drop(columns=\"marital_divorced\", inplace=True)\n",
    "\n",
    "data[\"education_primary\"] = label_encoder.fit_transform(data[\"education_primary\"])\n",
    "data[\"education_secondary\"] = label_encoder.fit_transform(data[\"education_secondary\"])\n",
    "data[\"education_tertiary\"] = label_encoder.fit_transform(data[\"education_tertiary\"])\n",
    "data.drop(columns=\"education_unknown\", inplace=True)"
   ]
  },
  {
   "cell_type": "code",
   "execution_count": null,
   "metadata": {},
   "outputs": [],
   "source": [
    "data.head()"
   ]
  },
  {
   "cell_type": "code",
   "execution_count": null,
   "metadata": {},
   "outputs": [],
   "source": [
    "y = data[\"deposit\"]  # Feature Vector\n",
    "X = data.drop(\"deposit\",axis=1)  # Feature Matrix"
   ]
  },
  {
   "cell_type": "code",
   "execution_count": null,
   "metadata": {},
   "outputs": [],
   "source": [
    "from sklearn.preprocessing import MinMaxScaler\n",
    "from sklearn.preprocessing import StandardScaler\n",
    "\n",
    "# Initialize the MinMaxScaler\n",
    "# scaler = MinMaxScaler()\n",
    "scaler = StandardScaler()\n",
    "\n",
    "# Scale all columns\n",
    "X = scaler.fit_transform(X)"
   ]
  },
  {
   "cell_type": "code",
   "execution_count": null,
   "metadata": {},
   "outputs": [],
   "source": [
    "from sklearn.model_selection import train_test_split\n",
    "\n",
    "\n",
    "# Split the data into training and testing sets (80% train, 20% test)\n",
    "X_train, X_test, y_train, y_test = train_test_split(X, y, test_size=0.2, random_state=42)\n",
    "\n",
    "# Print the shapes of the train and test sets\n",
    "print(\"Shape of X_train:\", X_train.shape)\n",
    "print(\"Shape of X_test:\", X_test.shape)\n",
    "print(\"Shape of y_train:\", y_train.shape)\n",
    "print(\"Shape of y_test:\", y_test.shape)"
   ]
  },
  {
   "cell_type": "code",
   "execution_count": null,
   "metadata": {},
   "outputs": [],
   "source": [
    "import matplotlib.pyplot as plt\n",
    "\n",
    "# Calculate the sizes of each set\n",
    "sizes = [len(X_train), len(X_test)]\n",
    "labels = ['Training Set', 'Testing Set']\n",
    "\n",
    "# Create a pie chart\n",
    "plt.pie(sizes, labels=labels, autopct='%1.1f%%', startangle=140)\n",
    "plt.title('Proportion of Data in Training and Testing Sets')\n",
    "plt.axis('equal')  # Equal aspect ratio ensures that pie is drawn as a circle\n",
    "plt.show()"
   ]
  },
  {
   "cell_type": "markdown",
   "metadata": {},
   "source": [
    "># Classification"
   ]
  },
  {
   "cell_type": "code",
   "execution_count": null,
   "metadata": {},
   "outputs": [],
   "source": [
    "from sklearn.ensemble import RandomForestClassifier\n",
    "from sklearn.svm import SVC\n",
    "from sklearn.metrics import classification_report, accuracy_score\n",
    "\n",
    "# Initialize and train the SVM classifier\n",
    "# model = SVC(kernel='linear',probability=True)\n",
    "model = RandomForestClassifier(random_state=42)\n",
    "model.fit(X_train, y_train)\n",
    "\n",
    "# Make predictions on the testing set\n",
    "y_pred = model.predict(X_test)\n",
    "\n",
    "# Evaluate the model\n",
    "accuracy = accuracy_score(y_test, y_pred)\n",
    "print(\"Accuracy:\", accuracy)\n",
    "\n",
    "# Print classification report\n",
    "print(\"Classification Report:\")\n",
    "print(classification_report(y_test, y_pred))"
   ]
  },
  {
   "cell_type": "code",
   "execution_count": null,
   "metadata": {},
   "outputs": [],
   "source": [
    "from sklearn.model_selection import cross_val_predict\n",
    "from sklearn.metrics import roc_curve, auc\n",
    "from sklearn.preprocessing import label_binarize\n",
    "import numpy as np\n",
    "import matplotlib.pyplot as plt\n",
    "\n",
    "# Function to plot ROC curves for each class\n",
    "def plot_roc_curves_for_classes(model, X, y):\n",
    "    # Binarize the target variable\n",
    "    y_bin = label_binarize(y, classes=np.unique(y))\n",
    "\n",
    "    # Perform cross-validated predictions for probabilities of each class\n",
    "    y_scores_cv = cross_val_predict(model, X, y, cv=5, method='predict_proba')\n",
    "\n",
    "    # Get the number of classes\n",
    "    n_classes = y_bin.shape[1]\n",
    "\n",
    "    # Initialize figure\n",
    "    # plt.figure(figsize=(8, 6))\n",
    "\n",
    "    # For each class, compute ROC curve and AUC\n",
    "    for i in range(n_classes):\n",
    "        fpr, tpr, _ = roc_curve(y_bin[:, i], y_scores_cv[:, i])\n",
    "        roc_auc = auc(fpr, tpr)\n",
    "        plt.plot(tpr, fpr, lw=2, label='Class {} (AUC = {:.2f})'.format(i, roc_auc))\n",
    "\n",
    "    # Plot diagonal line (random classifier)\n",
    "    plt.plot([0, 1], [0, 1], color='navy', lw=2, linestyle='--')\n",
    "\n",
    "    # Set plot parameters\n",
    "    plt.xlim([0.0, 1.0])\n",
    "    plt.ylim([0.0, 1.05])\n",
    "    plt.xlabel('False Positive Rate')\n",
    "    plt.ylabel('True Positive Rate')\n",
    "    plt.title('ROC curves for each class')\n",
    "    plt.legend(loc=\"lower right\")\n",
    "    plt.show()\n",
    "\n",
    "# Call the function to plot ROC curves for each class\n",
    "plot_roc_curves_for_classes(model, X_train, y_train)"
   ]
  },
  {
   "cell_type": "code",
   "execution_count": null,
   "metadata": {},
   "outputs": [],
   "source": [
    "import matplotlib.pyplot as plt\n",
    "from sklearn.metrics import confusion_matrix\n",
    "\n",
    "# Plot confusion matrix\n",
    "def plot_confusion_matrix(y_true, y_pred, labels):\n",
    "    cm = confusion_matrix(y_true, y_pred, labels=labels)\n",
    "    # plt.figure(figsize=(8, 6))\n",
    "    sns.heatmap(cm, annot=True, fmt='d', xticklabels=labels, yticklabels=labels)\n",
    "    plt.xlabel('Predicted')\n",
    "    plt.ylabel('Actual')\n",
    "    plt.title('Confusion Matrix')\n",
    "    plt.show()\n",
    "\n",
    "# Plot distribution of actual vs predicted values\n",
    "def plot_actual_vs_predicted(y_true, y_pred, labels):\n",
    "    # plt.figure(figsize=(10, 6))\n",
    "    sns.histplot(y_true, label='Actual', kde=True, alpha=0.5)\n",
    "    sns.histplot(y_pred, label='Predicted', kde=True, alpha=0.5)\n",
    "    plt.xlabel('Frequency of feeling depressed or down')\n",
    "    plt.ylabel('Count')\n",
    "    plt.title('Actual vs Predicted')\n",
    "    plt.legend()\n",
    "    plt.xticks(rotation=45)\n",
    "    plt.xticks(labels)\n",
    "    plt.show()\n",
    "\n",
    "# Plot confusion matrix\n",
    "plot_confusion_matrix(y_test, y_pred, labels=data[\"deposit\"].unique().tolist())\n",
    "\n",
    "# Plot distribution of actual vs predicted values\n",
    "plot_actual_vs_predicted(y_test, y_pred, labels=data[\"deposit\"].unique().tolist())"
   ]
  }
 ],
 "metadata": {
  "kernelspec": {
   "display_name": "Python 3",
   "language": "python",
   "name": "python3"
  },
  "language_info": {
   "codemirror_mode": {
    "name": "ipython",
    "version": 3
   },
   "file_extension": ".py",
   "mimetype": "text/x-python",
   "name": "python",
   "nbconvert_exporter": "python",
   "pygments_lexer": "ipython3",
   "version": "3.11.5"
  }
 },
 "nbformat": 4,
 "nbformat_minor": 2
}
