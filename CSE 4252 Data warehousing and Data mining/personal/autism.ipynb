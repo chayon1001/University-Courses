{
 "cells": [
  {
   "cell_type": "markdown",
   "metadata": {},
   "source": [
    "># Test dataset machine learning"
   ]
  },
  {
   "cell_type": "code",
   "execution_count": null,
   "metadata": {},
   "outputs": [],
   "source": [
    "import warnings\n",
    "warnings.filterwarnings(\"ignore\")"
   ]
  },
  {
   "cell_type": "markdown",
   "metadata": {},
   "source": [
    "># Coding starts"
   ]
  },
  {
   "cell_type": "code",
   "execution_count": null,
   "metadata": {},
   "outputs": [],
   "source": [
    "import seaborn as sns\n",
    "import pandas as pd\n",
    "import matplotlib.pyplot as plt\n",
    "from sklearn.preprocessing import LabelEncoder"
   ]
  },
  {
   "cell_type": "code",
   "execution_count": null,
   "metadata": {},
   "outputs": [],
   "source": [
    "data = pd.read_csv(\"datasets/autism.csv\")"
   ]
  },
  {
   "cell_type": "markdown",
   "metadata": {},
   "source": [
    "># EDA"
   ]
  },
  {
   "cell_type": "code",
   "execution_count": null,
   "metadata": {},
   "outputs": [],
   "source": [
    "print(data.shape)\n",
    "print(data.index)\n",
    "print(data.columns)\n",
    "print(len(data.columns))\n",
    "data.head()"
   ]
  },
  {
   "cell_type": "code",
   "execution_count": null,
   "metadata": {},
   "outputs": [],
   "source": [
    "data.info()"
   ]
  },
  {
   "cell_type": "markdown",
   "metadata": {},
   "source": [
    "># Visualization"
   ]
  },
  {
   "cell_type": "code",
   "execution_count": null,
   "metadata": {},
   "outputs": [],
   "source": [
    "import pandas as pd\n",
    "import matplotlib.pyplot as plt\n",
    "\n",
    "# Assuming your DataFrame is named 'data'\n",
    "# If not, replace 'data' with the name of your DataFrame\n",
    "\n",
    "# Create a figure and subplots\n",
    "fig, axs = plt.subplots(2, 2)\n",
    "\n",
    "# Bar chart for gender distribution\n",
    "gender_counts = data['Gender'].value_counts()\n",
    "axs[0, 0].bar(gender_counts.index, gender_counts.values, color='blue')\n",
    "axs[0, 0].set_title('Gender Distribution')\n",
    "axs[0, 0].set_xlabel('Gender')\n",
    "axs[0, 0].set_ylabel('Count')\n",
    "\n",
    "# Bar chart for physical problems\n",
    "physical_problems_counts = data['Fluency on regular task?'].value_counts()\n",
    "axs[0, 1].bar(physical_problems_counts.index, physical_problems_counts.values, color='green')\n",
    "axs[0, 1].set_title('Fluency on regular task?')\n",
    "axs[0, 1].set_xlabel('Fluency on regular task?')\n",
    "axs[0, 1].set_ylabel('Count')\n",
    "\n",
    "# Histogram for Age distribution\n",
    "axs[1, 0].hist(data['Age'].dropna(), bins=20, color='red')\n",
    "axs[1, 0].set_title('Age Distribution')\n",
    "axs[1, 0].set_xlabel('Age')\n",
    "axs[1, 0].set_ylabel('Frequency')\n",
    "\n",
    "# Bar chart for Autism diagnosis\n",
    "autism_counts = data['Autism?'].value_counts()\n",
    "axs[1, 1].bar(autism_counts.index, autism_counts.values, color='orange')\n",
    "axs[1, 1].set_title('Autism Diagnosis')\n",
    "axs[1, 1].set_xlabel('Autism')\n",
    "axs[1, 1].set_ylabel('Count')\n",
    "\n",
    "# Adjust layout\n",
    "plt.tight_layout()\n",
    "\n",
    "# Show the plot\n",
    "plt.show()\n"
   ]
  },
  {
   "cell_type": "code",
   "execution_count": null,
   "metadata": {},
   "outputs": [],
   "source": [
    "# plt.figure(figsize=(10, 8))\n",
    "\n",
    "plt.subplot(1, 2, 1)\n",
    "plt.pie(data['Gender'].value_counts(), autopct='%1.1f%%',\n",
    "        labels=['Male', 'Female'])\n",
    "plt.title(\"Gender\")\n",
    "plt.subplot(1, 2, 2)\n",
    "plt.pie(data['Autism?'].value_counts(), autopct='%1.1f%%',\n",
    "        labels=['yes', 'no'])\n",
    "plt.title(\"Autism?\")\n",
    "\n",
    "plt.tight_layout()\n",
    "plt.show()"
   ]
  },
  {
   "cell_type": "markdown",
   "metadata": {},
   "source": [
    "># Preprocessing"
   ]
  },
  {
   "cell_type": "markdown",
   "metadata": {},
   "source": [
    ">## Missing values"
   ]
  },
  {
   "cell_type": "code",
   "execution_count": null,
   "metadata": {},
   "outputs": [],
   "source": [
    "print(\"Missing values before handling:\")\n",
    "print(data.isnull().sum())"
   ]
  },
  {
   "cell_type": "code",
   "execution_count": null,
   "metadata": {},
   "outputs": [],
   "source": [
    "mean=data[\"Age\"].mean()\n",
    "mod=data[\"Understand facial expressions and body language?\"].mode()[0]\n",
    "print(mean)\n",
    "print(mod)"
   ]
  },
  {
   "cell_type": "code",
   "execution_count": null,
   "metadata": {},
   "outputs": [],
   "source": [
    "data[\"Age\"].fillna(mean, inplace=True)\n",
    "data[\"Understand facial expressions and body language?\"].fillna(mod, inplace=True)"
   ]
  },
  {
   "cell_type": "code",
   "execution_count": null,
   "metadata": {},
   "outputs": [],
   "source": [
    "print(\"Missing values after handling:\")\n",
    "print(data.isnull().sum())"
   ]
  },
  {
   "cell_type": "markdown",
   "metadata": {},
   "source": [
    ">## Outliers handled"
   ]
  },
  {
   "cell_type": "code",
   "execution_count": null,
   "metadata": {},
   "outputs": [],
   "source": [
    "sns.boxplot(x=\"Age\", y=\"Gender\", data=data)"
   ]
  },
  {
   "cell_type": "code",
   "execution_count": null,
   "metadata": {},
   "outputs": [],
   "source": [
    "data[\"Age\"].describe()"
   ]
  },
  {
   "cell_type": "code",
   "execution_count": null,
   "metadata": {},
   "outputs": [],
   "source": [
    "outliers = (data['Age'] < 7) | (data['Age'] > 20)\n",
    "\n",
    "mean_age = data.loc[~outliers, 'Age'].mean()  # Calculate mean excluding outliers\n",
    "print(mean)\n",
    "data.loc[outliers, 'Age'] = mean_age"
   ]
  },
  {
   "cell_type": "code",
   "execution_count": null,
   "metadata": {},
   "outputs": [],
   "source": [
    "sns.boxplot(x=\"Age\", y=\"Gender\", data=data)"
   ]
  },
  {
   "cell_type": "markdown",
   "metadata": {},
   "source": [
    ">## Drop unnecessary colums"
   ]
  },
  {
   "cell_type": "code",
   "execution_count": null,
   "metadata": {},
   "outputs": [],
   "source": [
    "print(data.columns)\n",
    "print(len(data.columns))"
   ]
  },
  {
   "cell_type": "code",
   "execution_count": null,
   "metadata": {},
   "outputs": [],
   "source": [
    "columns_to_drop = ['Name', 'Parent', 'Address']\n",
    "data = data.drop(columns=columns_to_drop, axis=1)"
   ]
  },
  {
   "cell_type": "code",
   "execution_count": null,
   "metadata": {},
   "outputs": [],
   "source": [
    "print(data.columns)\n",
    "print(len(data.columns))"
   ]
  },
  {
   "cell_type": "markdown",
   "metadata": {},
   "source": [
    ">## Label encoding"
   ]
  },
  {
   "cell_type": "code",
   "execution_count": null,
   "metadata": {},
   "outputs": [],
   "source": [
    "print(\"Gender\")\n",
    "print(data[\"Gender\"].unique().tolist())\n",
    "print(data[\"Gender\"].value_counts().tolist())\n",
    "\n",
    "print(\"Understand facial expressions and body language?\")\n",
    "print(data[\"Understand facial expressions and body language?\"].unique().tolist())\n",
    "print(data[\"Understand facial expressions and body language?\"].value_counts().tolist())\n",
    "\n",
    "print(data[\"Autism?\"].unique().tolist())\n",
    "print(data[\"Autism?\"].value_counts().tolist())\n",
    "\n",
    "print(data[\"Physical problem?\"].unique().tolist())\n",
    "print(data[\"Physical problem?\"].value_counts().tolist())"
   ]
  },
  {
   "cell_type": "code",
   "execution_count": null,
   "metadata": {},
   "outputs": [],
   "source": [
    "label_encoder = LabelEncoder()"
   ]
  },
  {
   "cell_type": "code",
   "execution_count": null,
   "metadata": {},
   "outputs": [],
   "source": [
    "data[\"Gender\"] = label_encoder.fit_transform(data[\"Gender\"])\n",
    "data[\"Autism?\"] = label_encoder.fit_transform(data[\"Autism?\"])\n",
    "data[\"Physical problem?\"] = label_encoder.fit_transform(data[\"Physical problem?\"])"
   ]
  },
  {
   "cell_type": "code",
   "execution_count": null,
   "metadata": {},
   "outputs": [],
   "source": [
    "data.head()"
   ]
  },
  {
   "cell_type": "code",
   "execution_count": null,
   "metadata": {},
   "outputs": [],
   "source": [
    "data = pd.get_dummies(data, columns=['Understand facial expressions and body language?'], prefix='', prefix_sep='')"
   ]
  },
  {
   "cell_type": "code",
   "execution_count": null,
   "metadata": {},
   "outputs": [],
   "source": [
    "data.head()"
   ]
  },
  {
   "cell_type": "code",
   "execution_count": null,
   "metadata": {},
   "outputs": [],
   "source": [
    "data[\"body\"] = label_encoder.fit_transform(data[\"body\"])\n",
    "data[\"both\"] = label_encoder.fit_transform(data[\"both\"])\n",
    "data[\"face\"] = label_encoder.fit_transform(data[\"face\"])\n",
    "data.drop(columns=\"none\", inplace=True)"
   ]
  },
  {
   "cell_type": "code",
   "execution_count": null,
   "metadata": {},
   "outputs": [],
   "source": [
    "data.head()"
   ]
  },
  {
   "cell_type": "code",
   "execution_count": null,
   "metadata": {},
   "outputs": [],
   "source": [
    "y = data[\"Autism?\"]  # Feature Vector\n",
    "X = data.drop(\"Autism?\",axis=1)  # Feature Matrix"
   ]
  },
  {
   "cell_type": "code",
   "execution_count": null,
   "metadata": {},
   "outputs": [],
   "source": [
    "from sklearn.preprocessing import MinMaxScaler\n",
    "\n",
    "# Initialize the MinMaxScaler\n",
    "scaler = MinMaxScaler()\n",
    "\n",
    "# Scale all columns\n",
    "X = scaler.fit_transform(X)"
   ]
  },
  {
   "cell_type": "code",
   "execution_count": null,
   "metadata": {},
   "outputs": [],
   "source": [
    "from sklearn.model_selection import train_test_split\n",
    "\n",
    "\n",
    "# Split the data into training and testing sets (80% train, 20% test)\n",
    "X_train, X_test, y_train, y_test = train_test_split(X, y, test_size=0.2, random_state=42)\n",
    "\n",
    "# Print the shapes of the train and test sets\n",
    "print(\"Shape of X_train:\", X_train.shape)\n",
    "print(\"Shape of X_test:\", X_test.shape)\n",
    "print(\"Shape of y_train:\", y_train.shape)\n",
    "print(\"Shape of y_test:\", y_test.shape)"
   ]
  },
  {
   "cell_type": "code",
   "execution_count": null,
   "metadata": {},
   "outputs": [],
   "source": [
    "import matplotlib.pyplot as plt\n",
    "\n",
    "# Visualize the distribution of the target variable\n",
    "plt.figure()\n",
    "plt.subplot(1, 2, 1)\n",
    "plt.hist(y_train, bins=20, color='blue', alpha=0.7)\n",
    "plt.title('Distribution of y_train')\n",
    "plt.xlabel('Value')\n",
    "plt.ylabel('Frequency')\n",
    "\n",
    "plt.subplot(1, 2, 2)\n",
    "plt.hist(y_test, bins=20, color='red', alpha=0.7)\n",
    "plt.title('Distribution of y_test')\n",
    "plt.xlabel('Value')\n",
    "plt.ylabel('Frequency')\n",
    "\n",
    "plt.tight_layout()\n",
    "plt.show()\n",
    "\n",
    "# Visualize the distribution of features (choose a feature for example)\n",
    "feature_index = 0  # Change this index to visualize different features\n",
    "plt.figure()\n",
    "plt.subplot(1, 2, 1)\n",
    "plt.hist(X_train[:, feature_index], bins=20, color='blue', alpha=0.7)\n",
    "plt.title('Distribution of X_train')\n",
    "plt.xlabel('Feature Value')\n",
    "plt.ylabel('Frequency')\n",
    "\n",
    "plt.subplot(1, 2, 2)\n",
    "plt.hist(X_test[:, feature_index], bins=20, color='red', alpha=0.7)\n",
    "plt.title('Distribution of X_test')\n",
    "plt.xlabel('Feature Value')\n",
    "plt.ylabel('Frequency')\n",
    "\n",
    "plt.tight_layout()\n",
    "plt.show()\n"
   ]
  },
  {
   "cell_type": "markdown",
   "metadata": {},
   "source": [
    "># Classification"
   ]
  },
  {
   "cell_type": "code",
   "execution_count": null,
   "metadata": {},
   "outputs": [],
   "source": [
    "from sklearn.svm import SVC\n",
    "from sklearn.metrics import classification_report, accuracy_score\n",
    "\n",
    "# Initialize and train the SVM classifier\n",
    "# model = SVC(kernel='linear')\n",
    "model = SVC(kernel='linear', probability=True)\n",
    "model.fit(X_train, y_train)\n",
    "\n",
    "# Make predictions on the testing set\n",
    "y_pred = model.predict(X_test)\n",
    "\n",
    "# Evaluate the model\n",
    "accuracy = accuracy_score(y_test, y_pred)\n",
    "print(\"Accuracy:\", accuracy)\n",
    "\n",
    "# Print classification report\n",
    "print(\"Classification Report:\")\n",
    "print(classification_report(y_test, y_pred))"
   ]
  },
  {
   "cell_type": "code",
   "execution_count": null,
   "metadata": {},
   "outputs": [],
   "source": [
    "from sklearn.model_selection import cross_val_predict\n",
    "from sklearn.metrics import roc_curve, auc\n",
    "from sklearn.preprocessing import label_binarize\n",
    "import numpy as np\n",
    "import matplotlib.pyplot as plt\n",
    "\n",
    "# Function to plot ROC curves for each class\n",
    "def plot_roc_curves_for_classes(model, X, y):\n",
    "    # Binarize the target variable\n",
    "    y_bin = label_binarize(y, classes=np.unique(y))\n",
    "\n",
    "    # Perform cross-validated predictions for probabilities of each class\n",
    "    y_scores_cv = cross_val_predict(model, X, y, cv=5, method='predict_proba')\n",
    "\n",
    "    # Get the number of classes\n",
    "    n_classes = y_bin.shape[1]\n",
    "\n",
    "    # Initialize figure\n",
    "    # plt.figure(figsize=(8, 6))\n",
    "\n",
    "    # For each class, compute ROC curve and AUC\n",
    "    for i in range(n_classes):\n",
    "        fpr, tpr, _ = roc_curve(y_bin[:, i], y_scores_cv[:, i])\n",
    "        roc_auc = auc(fpr, tpr)\n",
    "        plt.plot(tpr, fpr, lw=2, label='Class {} (AUC = {:.2f})'.format(i, roc_auc))\n",
    "\n",
    "    # Plot diagonal line (random classifier)\n",
    "    plt.plot([0, 1], [0, 1], color='navy', lw=2, linestyle='--')\n",
    "\n",
    "    # Set plot parameters\n",
    "    plt.xlim([0.0, 1.0])\n",
    "    plt.ylim([0.0, 1.05])\n",
    "    plt.xlabel('False Positive Rate')\n",
    "    plt.ylabel('True Positive Rate')\n",
    "    plt.title('ROC curves for each class')\n",
    "    plt.legend(loc=\"lower right\")\n",
    "    plt.show()\n",
    "\n",
    "# Call the function to plot ROC curves for each class\n",
    "plot_roc_curves_for_classes(model, X_train, y_train)\n"
   ]
  },
  {
   "cell_type": "code",
   "execution_count": null,
   "metadata": {},
   "outputs": [],
   "source": [
    "import matplotlib.pyplot as plt\n",
    "from sklearn.metrics import confusion_matrix\n",
    "\n",
    "# Plot confusion matrix\n",
    "def plot_confusion_matrix(y_true, y_pred, labels):\n",
    "    cm = confusion_matrix(y_true, y_pred, labels=labels)\n",
    "    # plt.figure(figsize=(8, 6))\n",
    "    sns.heatmap(cm, annot=True, fmt='d', cmap='Blues', xticklabels=labels, yticklabels=labels)\n",
    "    plt.xlabel('Predicted')\n",
    "    plt.ylabel('Actual')\n",
    "    plt.title('Confusion Matrix')\n",
    "    plt.show()\n",
    "\n",
    "# Plot distribution of actual vs predicted values\n",
    "def plot_actual_vs_predicted(y_true, y_pred, labels):\n",
    "    # plt.figure(figsize=(10, 6))\n",
    "    sns.histplot(y_true, label='Actual', color='blue', kde=True, alpha=0.5)\n",
    "    sns.histplot(y_pred, label='Predicted', color='orange', kde=True, alpha=0.5)\n",
    "    plt.xlabel('Frequency of feeling depressed or down')\n",
    "    plt.ylabel('Count')\n",
    "    plt.title('Actual vs Predicted')\n",
    "    plt.legend()\n",
    "    plt.xticks(rotation=45)\n",
    "    plt.xticks(labels)\n",
    "    plt.show()\n",
    "\n",
    "# Plot confusion matrix\n",
    "plot_confusion_matrix(y_test, y_pred, labels=data[\"Autism?\"].unique().tolist())\n",
    "\n",
    "# Plot distribution of actual vs predicted values\n",
    "plot_actual_vs_predicted(y_test, y_pred, labels=data[\"Autism?\"].unique().tolist())"
   ]
  }
 ],
 "metadata": {
  "kernelspec": {
   "display_name": "Python 3",
   "language": "python",
   "name": "python3"
  },
  "language_info": {
   "codemirror_mode": {
    "name": "ipython",
    "version": 3
   },
   "file_extension": ".py",
   "mimetype": "text/x-python",
   "name": "python",
   "nbconvert_exporter": "python",
   "pygments_lexer": "ipython3",
   "version": "3.11.5"
  }
 },
 "nbformat": 4,
 "nbformat_minor": 2
}
