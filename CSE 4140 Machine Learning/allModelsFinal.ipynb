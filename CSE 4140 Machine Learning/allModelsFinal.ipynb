{
 "cells": [
  {
   "cell_type": "markdown",
   "metadata": {},
   "source": [
    "All in one Final\n"
   ]
  },
  {
   "cell_type": "markdown",
   "metadata": {},
   "source": [
    "Import libraries\n"
   ]
  },
  {
   "cell_type": "code",
   "execution_count": null,
   "metadata": {},
   "outputs": [],
   "source": [
    "from pandas import read_csv\n",
    "from sklearn.model_selection import train_test_split\n",
    "from sklearn.linear_model import LogisticRegression\n",
    "from sklearn.svm import SVC\n",
    "from sklearn.ensemble import RandomForestClassifier\n",
    "from sklearn.tree import DecisionTreeClassifier\n",
    "from sklearn.metrics import confusion_matrix, accuracy_score, classification_report, roc_curve, auc\n",
    "from matplotlib import pyplot\n",
    "# For preprocessing data for Logistic Regression\n",
    "from sklearn.preprocessing import StandardScaler\n",
    "from sklearn.decomposition import PCA"
   ]
  },
  {
   "cell_type": "markdown",
   "metadata": {},
   "source": [
    "Read data\n"
   ]
  },
  {
   "cell_type": "code",
   "execution_count": null,
   "metadata": {},
   "outputs": [],
   "source": [
    "data = read_csv('Datasets/diabetes.csv')\n",
    "data.head(10)"
   ]
  },
  {
   "cell_type": "markdown",
   "metadata": {},
   "source": [
    "Separating imput and output\n"
   ]
  },
  {
   "cell_type": "code",
   "execution_count": null,
   "metadata": {},
   "outputs": [],
   "source": [
    "x = data.drop('Outcome', axis='columns')\n",
    "y = data.Outcome"
   ]
  },
  {
   "cell_type": "markdown",
   "metadata": {},
   "source": [
    "Split train and test data"
   ]
  },
  {
   "cell_type": "code",
   "execution_count": null,
   "metadata": {},
   "outputs": [],
   "source": [
    "xtrain, xtest, ytrain, ytest = train_test_split(\n",
    "    x, y, test_size=0.2, random_state=1)"
   ]
  },
  {
   "cell_type": "markdown",
   "metadata": {},
   "source": [
    "Scaling data in range\n",
    "Need for Logistic Regression\n"
   ]
  },
  {
   "cell_type": "code",
   "execution_count": null,
   "metadata": {},
   "outputs": [],
   "source": [
    "sc = StandardScaler()\n",
    "xtrain = sc.fit_transform(xtrain)\n",
    "xtest = sc.fit_transform(xtest)"
   ]
  },
  {
   "cell_type": "markdown",
   "metadata": {},
   "source": [
    "Need for huge datsets\n",
    "unsupervised dimensionality reduction technique\n",
    "The resulting projected data are essentially linear combinations of the original data capturing most of the variance in the data\n"
   ]
  },
  {
   "cell_type": "code",
   "execution_count": null,
   "metadata": {},
   "outputs": [],
   "source": [
    "# pca = PCA()\n",
    "# xtrain = pca.fit_transform(xtrain)\n",
    "# xtest = pca.fit_transform(xtest)"
   ]
  },
  {
   "cell_type": "markdown",
   "metadata": {},
   "source": [
    "Model initialization\n"
   ]
  },
  {
   "cell_type": "code",
   "execution_count": null,
   "metadata": {},
   "outputs": [],
   "source": [
    "log = LogisticRegression()\n",
    "svm = SVC()\n",
    "rand = RandomForestClassifier()\n",
    "dtree = DecisionTreeClassifier()"
   ]
  },
  {
   "cell_type": "code",
   "execution_count": null,
   "metadata": {},
   "outputs": [],
   "source": [
    "log.fit(xtrain, ytrain)\n",
    "svm.fit(xtrain, ytrain)\n",
    "rand.fit(xtrain, ytrain)\n",
    "dtree.fit(xtrain, ytrain)"
   ]
  },
  {
   "cell_type": "code",
   "execution_count": null,
   "metadata": {},
   "outputs": [],
   "source": [
    "logPred = log.predict(xtest)\n",
    "svmPred = svm.predict(xtest)\n",
    "randPred = rand.predict(xtest)\n",
    "dtreePred = dtree.predict(xtest)"
   ]
  },
  {
   "cell_type": "code",
   "execution_count": null,
   "metadata": {},
   "outputs": [],
   "source": [
    "logac = accuracy_score(ytest, logPred)\n",
    "print('Logistic:', logac)\n",
    "svmac = accuracy_score(ytest, svmPred)\n",
    "print('SVM:', svmac)\n",
    "randac = accuracy_score(ytest, randPred)\n",
    "print('Random:', randac)\n",
    "dtreeac = accuracy_score(ytest, dtreePred)\n",
    "print('DTREE:', dtreeac)"
   ]
  },
  {
   "cell_type": "code",
   "execution_count": null,
   "metadata": {},
   "outputs": [],
   "source": [
    "logPred2 = log.decision_function(xtest)\n",
    "svmPred2 = svm.decision_function(xtest)\n",
    "\n",
    "logTPR, logFPR, Threshold = roc_curve(ytest, logPred2)\n",
    "svmTPR, svmFPR, Threshold = roc_curve(ytest, svmPred2)\n",
    "\n",
    "logAUC = auc(logTPR, logFPR)\n",
    "svmAUC = auc(svmTPR, svmFPR)\n",
    "\n",
    "pyplot.plot(logTPR, logFPR, label='LogisticRegression auc %0.2f' % logAUC)\n",
    "pyplot.plot(svmTPR, svmFPR, label='SVM auc %0.2f' % svmAUC)\n",
    "\n",
    "pyplot.legend()\n",
    "pyplot.show()"
   ]
  }
 ],
 "metadata": {
  "kernelspec": {
   "display_name": "Python 3",
   "language": "python",
   "name": "python3"
  },
  "language_info": {
   "codemirror_mode": {
    "name": "ipython",
    "version": 3
   },
   "file_extension": ".py",
   "mimetype": "text/x-python",
   "name": "python",
   "nbconvert_exporter": "python",
   "pygments_lexer": "ipython3",
   "version": "3.11.5"
  }
 },
 "nbformat": 4,
 "nbformat_minor": 2
}
