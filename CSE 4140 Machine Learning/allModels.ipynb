{
 "cells": [
  {
   "cell_type": "markdown",
   "metadata": {},
   "source": [
    "All in one"
   ]
  },
  {
   "cell_type": "markdown",
   "metadata": {},
   "source": [
    "Import"
   ]
  },
  {
   "cell_type": "code",
   "execution_count": null,
   "metadata": {},
   "outputs": [],
   "source": [
    "from pandas import read_csv\n",
    "from sklearn.model_selection import train_test_split\n",
    "from sklearn.linear_model import LogisticRegression\n",
    "from sklearn.svm import SVC\n",
    "from sklearn.ensemble import RandomForestClassifier"
   ]
  },
  {
   "cell_type": "code",
   "execution_count": null,
   "metadata": {},
   "outputs": [],
   "source": [
    "data = read_csv('Datasets/diabetes.csv')"
   ]
  },
  {
   "cell_type": "code",
   "execution_count": null,
   "metadata": {},
   "outputs": [],
   "source": [
    "x = data.drop('Outcome', axis='columns')\n",
    "y = data.Outcome"
   ]
  },
  {
   "cell_type": "code",
   "execution_count": null,
   "metadata": {},
   "outputs": [],
   "source": [
    "xtrain, xtest, ytrain, ytest = train_test_split(\n",
    "    x, y, test_size=0.20, random_state=1)"
   ]
  },
  {
   "cell_type": "code",
   "execution_count": null,
   "metadata": {},
   "outputs": [],
   "source": [
    "log = LogisticRegression()\n",
    "svc = SVC()\n",
    "rand = RandomForestClassifier()"
   ]
  },
  {
   "cell_type": "code",
   "execution_count": null,
   "metadata": {},
   "outputs": [],
   "source": [
    "log.fit(xtrain, ytrain)\n",
    "svc.fit(xtrain, ytrain)\n",
    "rand.fit(xtrain, ytrain)"
   ]
  },
  {
   "cell_type": "code",
   "execution_count": null,
   "metadata": {},
   "outputs": [],
   "source": [
    "log_pred = log.predict(xtest)\n",
    "svc_pred = svc.predict(xtest)\n",
    "rand_pred = rand.predict(xtest)"
   ]
  },
  {
   "cell_type": "markdown",
   "metadata": {},
   "source": [
    "Peformance"
   ]
  },
  {
   "cell_type": "code",
   "execution_count": null,
   "metadata": {},
   "outputs": [],
   "source": [
    "from sklearn.metrics import confusion_matrix, accuracy_score, classification_report"
   ]
  },
  {
   "cell_type": "code",
   "execution_count": null,
   "metadata": {},
   "outputs": [],
   "source": [
    "log_cm = confusion_matrix(log_pred, ytest)\n",
    "log_ac = accuracy_score(log_pred, ytest)\n",
    "log_report = classification_report(log_pred, ytest)\n",
    "\n",
    "svc_cm = confusion_matrix(svc_pred, ytest)\n",
    "svc_ac = accuracy_score(svc_pred, ytest)\n",
    "svc_report = classification_report(svc_pred, ytest)\n",
    "\n",
    "rand_cm = confusion_matrix(rand_pred, ytest)\n",
    "rand_ac = accuracy_score(rand_pred, ytest)\n",
    "rand_report = classification_report(rand_pred, ytest)"
   ]
  },
  {
   "cell_type": "code",
   "execution_count": null,
   "metadata": {},
   "outputs": [],
   "source": [
    "print('Log CM:\\n', log_cm)\n",
    "print('SVM CM:\\n', svc_cm)\n",
    "print('Rand CM:\\n', rand_cm)\n",
    "\n",
    "print('Log AC:', log_ac)\n",
    "print('SVM AC:', svc_ac)\n",
    "print('Rand AC:', rand_ac)"
   ]
  },
  {
   "cell_type": "code",
   "execution_count": null,
   "metadata": {},
   "outputs": [],
   "source": [
    "print('Log:', log_report)\n",
    "print('SVM:', svc_report)\n",
    "print('Rand:', rand_report)"
   ]
  },
  {
   "cell_type": "markdown",
   "metadata": {},
   "source": [
    "ROC AUC\n"
   ]
  },
  {
   "cell_type": "code",
   "execution_count": null,
   "metadata": {},
   "outputs": [],
   "source": [
    "from sklearn.metrics import roc_curve, auc\n",
    "from matplotlib import pyplot"
   ]
  },
  {
   "cell_type": "code",
   "execution_count": null,
   "metadata": {},
   "outputs": [],
   "source": [
    "log_pred = log.decision_function(xtest)\n",
    "svc_pred = svc.decision_function(xtest)"
   ]
  },
  {
   "cell_type": "code",
   "execution_count": null,
   "metadata": {},
   "outputs": [],
   "source": [
    "logTPR, logFPR, Threshold = roc_curve(ytest, log_pred)\n",
    "svcTPR, svcFPR, Threshold = roc_curve(ytest, svc_pred)\n",
    "\n",
    "log_auc = auc(logTPR, logFPR)\n",
    "svc_auc = auc(svcTPR, svcFPR)\n",
    "\n",
    "print('Log:', log_auc)\n",
    "print('SVC:', svc_auc)\n",
    "\n",
    "pyplot.plot(logTPR, logFPR)\n",
    "pyplot.plot(svcTPR, svcFPR)\n",
    "\n",
    "pyplot.plot(logTPR, logFPR, label='Logistic')\n",
    "pyplot.plot(svcTPR, svcFPR, label='SVM')\n",
    "\n",
    "pyplot.legend()\n",
    "pyplot.show()"
   ]
  },
  {
   "cell_type": "markdown",
   "metadata": {},
   "source": [
    "PCA"
   ]
  },
  {
   "cell_type": "code",
   "execution_count": null,
   "metadata": {},
   "outputs": [],
   "source": [
    "from sklearn.decomposition import PCA\n",
    "pca = PCA()"
   ]
  },
  {
   "cell_type": "code",
   "execution_count": null,
   "metadata": {},
   "outputs": [],
   "source": [
    "xtrain = pca.fit_transform(xtrain)\n",
    "xtest = pca.fit_transform(xtest)"
   ]
  },
  {
   "cell_type": "code",
   "execution_count": null,
   "metadata": {},
   "outputs": [],
   "source": [
    "log.fit(xtrain, ytrain)\n",
    "svc.fit(xtrain, ytrain)\n",
    "rand.fit(xtrain, ytrain)\n",
    "\n",
    "log_pred = log.predict(xtest)\n",
    "svc_pred = svc.predict(xtest)\n",
    "rand_pred = rand.predict(xtest)\n",
    "\n",
    "log_cm = confusion_matrix(log_pred, ytest)\n",
    "log_ac = accuracy_score(log_pred, ytest)\n",
    "log_report = classification_report(log_pred, ytest)\n",
    "\n",
    "svc_cm = confusion_matrix(svc_pred, ytest)\n",
    "svc_ac = accuracy_score(svc_pred, ytest)\n",
    "svc_report = classification_report(svc_pred, ytest)\n",
    "\n",
    "rand_cm = confusion_matrix(rand_pred, ytest)\n",
    "rand_ac = accuracy_score(rand_pred, ytest)\n",
    "rand_report = classification_report(rand_pred, ytest)"
   ]
  },
  {
   "cell_type": "code",
   "execution_count": null,
   "metadata": {},
   "outputs": [],
   "source": [
    "print('Log CM:', log_cm)\n",
    "print('SVM CM:', svc_cm)\n",
    "print('Rand CM:', rand_cm)\n",
    "\n",
    "print('Log AC:', log_ac)\n",
    "print('SVM AC:', svc_ac)\n",
    "print('Rand AC:', rand_ac)"
   ]
  },
  {
   "cell_type": "code",
   "execution_count": null,
   "metadata": {},
   "outputs": [],
   "source": [
    "print('Log:', log_report)\n",
    "print('SVM:', svc_report)\n",
    "print('Rand:', rand_report)"
   ]
  },
  {
   "cell_type": "code",
   "execution_count": null,
   "metadata": {},
   "outputs": [],
   "source": [
    "log_pred = log.decision_function(xtest)\n",
    "svc_pred = svc.decision_function(xtest)\n",
    "\n",
    "logTPR, logFPR, Threshold = roc_curve(ytest, log_pred)\n",
    "svcTPR, svcFPR, Threshold = roc_curve(ytest, svc_pred)\n",
    "\n",
    "log_auc = auc(logTPR, logFPR)\n",
    "svc_auc = auc(svcTPR, svcFPR)\n",
    "\n",
    "print('Log:', log_auc)\n",
    "print('SVC:', svc_auc)\n",
    "\n",
    "pyplot.plot(logTPR, logFPR, label='Logistic')\n",
    "pyplot.plot(svcTPR, svcFPR, label='SVM')\n",
    "\n",
    "pyplot.legend()\n",
    "pyplot.show()"
   ]
  },
  {
   "cell_type": "markdown",
   "metadata": {},
   "source": [
    "END"
   ]
  }
 ],
 "metadata": {
  "kernelspec": {
   "display_name": "Python 3",
   "language": "python",
   "name": "python3"
  },
  "language_info": {
   "codemirror_mode": {
    "name": "ipython",
    "version": 3
   },
   "file_extension": ".py",
   "mimetype": "text/x-python",
   "name": "python",
   "nbconvert_exporter": "python",
   "pygments_lexer": "ipython3",
   "version": "3.11.5"
  }
 },
 "nbformat": 4,
 "nbformat_minor": 2
}
